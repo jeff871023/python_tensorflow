{
 "cells": [
  {
   "cell_type": "code",
   "execution_count": 1,
   "id": "7e7aa21d",
   "metadata": {},
   "outputs": [],
   "source": [
    "#數庫中重要的，比python效率好\n",
    "import numpy as np\n",
    "import tensorflow as tf\n",
    "#此模型使用平整層(Flatten)、密集層(Dense)、扔掉層(Dropout)\n",
    "from tensorflow.keras.layers import Flatten,Dense,Dropout\n",
    "#引入圖像\n",
    "import matplotlib.pyplot as plt"
   ]
  },
  {
   "cell_type": "code",
   "execution_count": 2,
   "id": "0ab4477c",
   "metadata": {},
   "outputs": [
    {
     "name": "stdout",
     "output_type": "stream",
     "text": [
      "train_x.shape: (60000, 28, 28) ,train_y.shape: (60000,)\n",
      "test_x.shape: (10000, 28, 28) ,test_y.shape: (10000,)\n",
      "0\n"
     ]
    },
    {
     "data": {
      "image/png": "[encoded data removed]",
      "text/plain": [
       "<Figure size 432x288 with 1 Axes>"
      ]
     },
     "metadata": {
      "needs_background": "light"
     },
     "output_type": "display_data"
    }
   ],
   "source": [
    " #把Keras內置的學習用手寫數字數據集放入\n",
    "ds=tf.keras.datasets.mnist\n",
    "    \n",
    "#把ds放入4個組裡面，train為訓練數組X(特徵數組)跟Y(標註1、2、8、....)，test為測試數組，模型出來時利用test數組去測試\n",
    "(train_x,train_y),(test_x,test_y)=ds.load_data()\n",
    "print(\"train_x.shape:\",train_x.shape, \",train_y.shape:\",train_y.shape)\n",
    "print(\"test_x.shape:\",test_x.shape,\",test_y.shape:\",test_y.shape)\n",
    "\n",
    "# train_x.shape: (60000(6萬個數據(圖片)), 28, 28(每張圖片28X28像素)) ,train_y.shape: (60000(結果6萬個),) 特徵組\n",
    "# test_x.shape: (10000(1萬個數據(圖片), 28, 28(每張圖片28X28像素)) ,test_y.shape: (10000(結果1萬個),) 測試組\n",
    "\n",
    "#////////顯示數據集圖//////////////////\n",
    "#顯示數據集圖n找第1000個圖\n",
    "n=1000\n",
    "#train_y[n]為標籤\n",
    "print(train_y[n])\n",
    "fig,ax=plt.subplots()\n",
    "ax.imshow(train_x[n])\n",
    "plt.show()\n",
    "#////////////////////////////////////"
   ]
  },
  {
   "cell_type": "code",
   "execution_count": 3,
   "id": "f07008f5",
   "metadata": {
    "scrolled": true
   },
   "outputs": [
    {
     "name": "stdout",
     "output_type": "stream",
     "text": [
      "[[  0   0   0   0   0   0   0   0   0   0   0   0   0   0   0   0   0   0\n",
      "    0   0   0   0   0   0   0   0   0   0]\n",
      " [  0   0   0   0   0   0   0   0   0   0   0   0   0   0   0   0   0   0\n",
      "    0   0   0   0   0   0   0   0   0   0]\n",
      " [  0   0   0   0   0   0   0   0   0   0   0   0   0   0   0   0   0   0\n",
      "    0   0   0   0   0   0   0   0   0   0]\n",
      " [  0   0   0   0   0   0   0   0   0   0   0   0   0   0   0   0   0   0\n",
      "    0   0   0   0   0   0   0   0   0   0]\n",
      " [  0   0   0   0   0   0   0   0   0   0   0   0   0   0   0   0   0   0\n",
      "    0   0   0   0   0   0   0   0   0   0]\n",
      " [  0   0   0   0   0   0   0   0   0   0   0   0   0   0  36 146 254 255\n",
      "  251  95   6   0   0   0   0   0   0   0]\n",
      " [  0   0   0   0   0   0   0   0   0   0   0   0   3  97 234 254 254 232\n",
      "  254 254  35   0   0   0   0   0   0   0]\n",
      " [  0   0   0   0   0   0   0   0   0   0   0  89 140 254 254 174  67  33\n",
      "  200 254 190   0   0   0   0   0   0   0]\n",
      " [  0   0   0   0   0   0   0   0   0   0 108 253 254 235  51   1   0   0\n",
      "   12 254 253  56   0   0   0   0   0   0]\n",
      " [  0   0   0   0   0   0   0   0   0  12 216 254 244  55   0   0   0   0\n",
      "    6 213 254  57   0   0   0   0   0   0]\n",
      " [  0   0   0   0   0   0   0   0   0  25 254 254 132   0   0   0   0   0\n",
      "    0 168 254  57   0   0   0   0   0   0]\n",
      " [  0   0   0   0   0   0   0   0   0  45 254 243  34   0   0   0   0   0\n",
      "    0 168 254  57   0   0   0   0   0   0]\n",
      " [  0   0   0   0   0   0   0   0   0 128 254 157   0   0   0   0   0   0\n",
      "    0 168 254  57   0   0   0   0   0   0]\n",
      " [  0   0   0   0   0   0   0   0  19 228 254 105   0   0   0   0   0   0\n",
      "    7 228 254  57   0   0   0   0   0   0]\n",
      " [  0   0   0   0   0   0   0   0  58 254 254  87   0   0   0   0   0   0\n",
      "   10 254 246  47   0   0   0   0   0   0]\n",
      " [  0   0   0   0   0   0   0   0  58 254 254   9   0   0   0   0   0   0\n",
      "   10 254 210   0   0   0   0   0   0   0]\n",
      " [  0   0   0   0   0   0   0   0  58 254 254   9   0   0   0   0   0   0\n",
      "  105 254  91   0   0   0   0   0   0   0]\n",
      " [  0   0   0   0   0   0   0   0   5 219 254   9   0   0   0   0   0  24\n",
      "  230 254  24   0   0   0   0   0   0   0]\n",
      " [  0   0   0   0   0   0   0   0   0 216 254   9   0   0   0   0   0  84\n",
      "  254 251  23   0   0   0   0   0   0   0]\n",
      " [  0   0   0   0   0   0   0   0   0 216 254  36   0   0   0   0  22 208\n",
      "  251  94   0   0   0   0   0   0   0   0]\n",
      " [  0   0   0   0   0   0   0   0   0 129 254 120   0   0   0   3 140 254\n",
      "  229   0   0   0   0   0   0   0   0   0]\n",
      " [  0   0   0   0   0   0   0   0   0  83 254 222  17   0   0  91 254 236\n",
      "   53   0   0   0   0   0   0   0   0   0]\n",
      " [  0   0   0   0   0   0   0   0   0  18 235 254 134  21 119 237 254 124\n",
      "    0   0   0   0   0   0   0   0   0   0]\n",
      " [  0   0   0   0   0   0   0   0   0   0  53 249 254 234 252 254 172   3\n",
      "    0   0   0   0   0   0   0   0   0   0]\n",
      " [  0   0   0   0   0   0   0   0   0   0   0 116 237 254 254 133  20   0\n",
      "    0   0   0   0   0   0   0   0   0   0]\n",
      " [  0   0   0   0   0   0   0   0   0   0   0   0   0   0   0   0   0   0\n",
      "    0   0   0   0   0   0   0   0   0   0]\n",
      " [  0   0   0   0   0   0   0   0   0   0   0   0   0   0   0   0   0   0\n",
      "    0   0   0   0   0   0   0   0   0   0]\n",
      " [  0   0   0   0   0   0   0   0   0   0   0   0   0   0   0   0   0   0\n",
      "    0   0   0   0   0   0   0   0   0   0]]\n"
     ]
    }
   ],
   "source": [
    "#train_x正規化\n",
    "#把像素轉化成0~1之間的數 //  像素/255\n",
    "print(train_x[1000])\n",
    "train_x=tf.keras.utils.normalize(train_x)\n",
    "test_x=tf.keras.utils.normalize(test_x)\n",
    "#print(train_x[1000])"
   ]
  },
  {
   "cell_type": "code",
   "execution_count": 4,
   "id": "8032f9fe",
   "metadata": {
    "scrolled": true
   },
   "outputs": [
    {
     "name": "stdout",
     "output_type": "stream",
     "text": [
      "0\n",
      "[1. 0. 0. 0. 0. 0. 0. 0. 0. 0.]\n"
     ]
    }
   ],
   "source": [
    "#one-hot\n",
    "#把數字轉化成2進位，如果是0呈現 1.0.0.0.0.0.0.0.0;如果是9呈現 0.0.0.0.0.0.0.0.1\n",
    "print(train_y[1000])\n",
    "train_y=tf.keras.utils.to_categorical(train_y)\n",
    "test_y=tf.keras.utils.to_categorical(test_y)\n",
    "#print(\"train_y.shape:\",train_y.shape,\",test_y.shape:\",test_y.shape)\n",
    "print(train_y[1000])"
   ]
  },
  {
   "cell_type": "code",
   "execution_count": 5,
   "id": "998ba23b",
   "metadata": {},
   "outputs": [
    {
     "name": "stdout",
     "output_type": "stream",
     "text": [
      "Model: \"sequential\"\n",
      "_________________________________________________________________\n",
      "Layer (type)                 Output Shape              Param #   \n",
      "=================================================================\n",
      "flatten (Flatten)            (None, 784)               0         \n",
      "_________________________________________________________________\n",
      "dense (Dense)                (None, 1000)              785000    \n",
      "_________________________________________________________________\n",
      "dense_1 (Dense)              (None, 256)               256256    \n",
      "_________________________________________________________________\n",
      "dropout (Dropout)            (None, 256)               0         \n",
      "_________________________________________________________________\n",
      "dense_2 (Dense)              (None, 10)                2570      \n",
      "=================================================================\n",
      "Total params: 1,043,826\n",
      "Trainable params: 1,043,826\n",
      "Non-trainable params: 0\n",
      "_________________________________________________________________\n"
     ]
    }
   ],
   "source": [
    "#模型定義(玄學)靠經驗去做調整神經數與層數\n",
    "model=tf.keras.Sequential()\n",
    "#把所有圖片換成一串數組\n",
    "model.add(Flatten(input_shape=[28,28]))\n",
    "#第一層給他1000個神經元、後面放入relu激活函數(此範例使用relu)\n",
    "model.add(Dense(1000,activation=\"relu\"))\n",
    "#加第二層給他256個神經元\n",
    "model.add(Dense(256,activation=\"relu\"))\n",
    "#丟掉不要的數據\n",
    "model.add(Dropout(rate=0.5))\n",
    "#最後用softmax激活，10代表0~9\n",
    "model.add(Dense(10,activation=\"softmax\"))\n",
    "\n",
    "#模型結構\n",
    "model.summary()"
   ]
  },
  {
   "cell_type": "code",
   "execution_count": 6,
   "id": "64e99696",
   "metadata": {},
   "outputs": [],
   "source": [
    "#編譯模型\n",
    "#放入3個1.損失函數(losses)2.優化函數(optimizer)3.較驗方法(metrics)\n",
    "model.compile(\n",
    "    loss=tf.keras.losses.categorical_crossentropy,\n",
    "    optimizer=tf.keras.optimizers.Adam(learning_rate=0.001),\n",
    "    metrics=[\"accuracy\"]\n",
    ")"
   ]
  },
  {
   "cell_type": "code",
   "execution_count": 7,
   "id": "0f755654",
   "metadata": {
    "scrolled": true
   },
   "outputs": [
    {
     "name": "stdout",
     "output_type": "stream",
     "text": [
      "Epoch 1/20\n",
      "469/469 [==============================] - 3s 7ms/step - loss: 0.2864 - accuracy: 0.9129 - val_loss: 0.1155 - val_accuracy: 0.9644\n",
      "Epoch 2/20\n",
      "469/469 [==============================] - 3s 7ms/step - loss: 0.1073 - accuracy: 0.9678 - val_loss: 0.0827 - val_accuracy: 0.9745\n",
      "Epoch 3/20\n",
      "469/469 [==============================] - 3s 6ms/step - loss: 0.0735 - accuracy: 0.9777 - val_loss: 0.0708 - val_accuracy: 0.9783\n",
      "Epoch 4/20\n",
      "469/469 [==============================] - 3s 7ms/step - loss: 0.0519 - accuracy: 0.9841 - val_loss: 0.0759 - val_accuracy: 0.9757\n",
      "Epoch 5/20\n",
      "469/469 [==============================] - 4s 9ms/step - loss: 0.0383 - accuracy: 0.9877 - val_loss: 0.0878 - val_accuracy: 0.9736\n",
      "Epoch 6/20\n",
      "469/469 [==============================] - 4s 9ms/step - loss: 0.0320 - accuracy: 0.9899 - val_loss: 0.0705 - val_accuracy: 0.9798\n",
      "Epoch 7/20\n",
      "469/469 [==============================] - 4s 9ms/step - loss: 0.0260 - accuracy: 0.9918 - val_loss: 0.0733 - val_accuracy: 0.9810\n",
      "Epoch 8/20\n",
      "469/469 [==============================] - 5s 10ms/step - loss: 0.0214 - accuracy: 0.9931 - val_loss: 0.0779 - val_accuracy: 0.9785\n",
      "Epoch 9/20\n",
      "469/469 [==============================] - 4s 10ms/step - loss: 0.0188 - accuracy: 0.9939 - val_loss: 0.0763 - val_accuracy: 0.9801\n",
      "Epoch 10/20\n",
      "469/469 [==============================] - 4s 9ms/step - loss: 0.0167 - accuracy: 0.9947 - val_loss: 0.0810 - val_accuracy: 0.9808\n",
      "Epoch 11/20\n",
      "469/469 [==============================] - 4s 10ms/step - loss: 0.0148 - accuracy: 0.9952 - val_loss: 0.0789 - val_accuracy: 0.9817\n",
      "Epoch 12/20\n",
      "469/469 [==============================] - 4s 9ms/step - loss: 0.0157 - accuracy: 0.9950 - val_loss: 0.0852 - val_accuracy: 0.9805\n",
      "Epoch 13/20\n",
      "469/469 [==============================] - 4s 9ms/step - loss: 0.0134 - accuracy: 0.9953 - val_loss: 0.0836 - val_accuracy: 0.9822\n",
      "Epoch 14/20\n",
      "469/469 [==============================] - 4s 9ms/step - loss: 0.0106 - accuracy: 0.9967 - val_loss: 0.0808 - val_accuracy: 0.9817\n",
      "Epoch 15/20\n",
      "469/469 [==============================] - 5s 11ms/step - loss: 0.0100 - accuracy: 0.9967 - val_loss: 0.0974 - val_accuracy: 0.9804\n",
      "Epoch 16/20\n",
      "469/469 [==============================] - 5s 10ms/step - loss: 0.0124 - accuracy: 0.9959 - val_loss: 0.0881 - val_accuracy: 0.9827\n",
      "Epoch 17/20\n",
      "469/469 [==============================] - 5s 10ms/step - loss: 0.0098 - accuracy: 0.9969 - val_loss: 0.0938 - val_accuracy: 0.9828\n",
      "Epoch 18/20\n",
      "469/469 [==============================] - 5s 10ms/step - loss: 0.0085 - accuracy: 0.9971 - val_loss: 0.1016 - val_accuracy: 0.9815\n",
      "Epoch 19/20\n",
      "469/469 [==============================] - 4s 10ms/step - loss: 0.0085 - accuracy: 0.9972 - val_loss: 0.1155 - val_accuracy: 0.9786\n",
      "Epoch 20/20\n",
      "469/469 [==============================] - 4s 9ms/step - loss: 0.0100 - accuracy: 0.9967 - val_loss: 0.1019 - val_accuracy: 0.9820\n",
      "79/79 [==============================] - 0s 3ms/step - loss: 0.1019 - accuracy: 0.9820\n",
      "訓練分數: [0.1019044890999794, 0.9819999933242798]\n",
      "原始值: [7 2 1 0 4 1 4 9 5 9 0 6 9 0 1 5 9 7 3 4]\n",
      "預測值: [7 2 1 0 4 1 4 9 6 9 0 6 9 0 1 5 9 7 8 4]\n"
     ]
    }
   ],
   "source": [
    "#訓練模型參數\n",
    "#訓練20週期(epochs)梯度下降抓最好的次數,每次傳128個圖片訓練(batch size)==>提高效率\n",
    "history=model.fit(train_x,train_y,validation_data=(test_x,test_y),epochs=20,batch_size=128)\n",
    "#評分\n",
    "score=model.evaluate(test_x,test_y,batch_size=128)\n",
    "print(\"訓練分數:\",score)\n",
    "\n",
    "result=model.predict(test_x,batch_size=128)\n",
    "print(\"原始值:\",np.argmax(test_y[:20],axis=1))\n",
    "print(\"預測值:\",np.argmax(result[:20],axis=1))\n",
    "\n",
    "#loss: 0.1031 - accuracy: 0.9800\n",
    "#loss越小越好,accuracy準確率越高越好100張正確預測出98\n",
    "\n",
    "#val_loss: 0.1031 - val_accuracy: 0.9800\n",
    "#val_loss教驗損失(test_x,test_y)損失差0.1031越小越好\n",
    "#val_accuracy教驗的準確率0.98越大越好"
   ]
  },
  {
   "cell_type": "code",
   "execution_count": 8,
   "id": "d21116f4",
   "metadata": {},
   "outputs": [],
   "source": [
    "#保存訓練模型\n",
    "model_filename=\"./model.h5\"\n",
    "model.save(model_filename)"
   ]
  },
  {
   "cell_type": "code",
   "execution_count": null,
   "id": "c3613f2e",
   "metadata": {},
   "outputs": [],
   "source": []
  }
 ],
 "metadata": {
  "kernelspec": {
   "display_name": "Python 3",
   "language": "python",
   "name": "python3"
  },
  "language_info": {
   "codemirror_mode": {
    "name": "ipython",
    "version": 3
   },
   "file_extension": ".py",
   "mimetype": "text/x-python",
   "name": "python",
   "nbconvert_exporter": "python",
   "pygments_lexer": "ipython3",
   "version": "3.8.8"
  }
 },
 "nbformat": 4,
 "nbformat_minor": 5
}
