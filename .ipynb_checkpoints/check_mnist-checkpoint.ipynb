{
 "cells": [
  {
   "cell_type": "code",
   "execution_count": 1,
   "id": "6e37d0d4",
   "metadata": {},
   "outputs": [],
   "source": [
    "import os\n",
    "os.environ['TF_CPP_MIN_LOG_LEVEL']='3'\n",
    "import numpy as np\n",
    "import tensorflow as tf\n",
    "import matplotlib.pyplot as plt\n",
    "from PIL import Image,ImageOps"
   ]
  },
  {
   "cell_type": "code",
   "execution_count": 2,
   "id": "65e8b94d",
   "metadata": {},
   "outputs": [],
   "source": [
    "def predict(img_tensor):\n",
    "    model_filename=\"./model.h5\"\n",
    "    model=tf.keras.models.load_model(model_filename)\n",
    "    img_tensor = np.expand_dims(img_tensor,axis=0)\n",
    "    img_tensor = np.expand_dims(img_tensor,axis=3)\n",
    "    img_tensor=img_tensor.astype(\"float\") / 255\n",
    "    result=model.predict(img_tensor)\n",
    "    print(\"預測值:\",np.argmax(result))\n",
    "    \n",
    "def check(img_path):\n",
    "    img = Image.open(img_path)\n",
    "    img = img.convert(\"L\")\n",
    "    img = ImageOps.invert(img)\n",
    "    img = img.resize((28,28))\n",
    "    #img.show()\n",
    "    img_np=np.asarray(img)\n",
    "    predict(img_np)\n"
   ]
  },
  {
   "cell_type": "code",
   "execution_count": 3,
   "id": "633bebc6",
   "metadata": {},
   "outputs": [
    {
     "name": "stdout",
     "output_type": "stream",
     "text": [
      "預測值: 0\n",
      "預測值: 8\n",
      "預測值: 2\n",
      "預測值: 8\n",
      "WARNING:tensorflow:5 out of the last 5 calls to <function Model.make_predict_function.<locals>.predict_function at 0x000001CB664E4EE0> triggered tf.function retracing. Tracing is expensive and the excessive number of tracings could be due to (1) creating @tf.function repeatedly in a loop, (2) passing tensors with different shapes, (3) passing Python objects instead of tensors. For (1), please define your @tf.function outside of the loop. For (2), @tf.function has experimental_relax_shapes=True option that relaxes argument shapes that can avoid unnecessary retracing. For (3), please refer to https://www.tensorflow.org/tutorials/customization/performance#python_or_tensor_args and https://www.tensorflow.org/api_docs/python/tf/function for  more details.\n",
      "預測值: 0\n",
      "WARNING:tensorflow:6 out of the last 6 calls to <function Model.make_predict_function.<locals>.predict_function at 0x000001CB68D02160> triggered tf.function retracing. Tracing is expensive and the excessive number of tracings could be due to (1) creating @tf.function repeatedly in a loop, (2) passing tensors with different shapes, (3) passing Python objects instead of tensors. For (1), please define your @tf.function outside of the loop. For (2), @tf.function has experimental_relax_shapes=True option that relaxes argument shapes that can avoid unnecessary retracing. For (3), please refer to https://www.tensorflow.org/tutorials/customization/performance#python_or_tensor_args and https://www.tensorflow.org/api_docs/python/tf/function for  more details.\n",
      "預測值: 8\n"
     ]
    }
   ],
   "source": [
    "check(\"./data/28x28num0.jpg\")\n",
    "check(\"./data/28x28num1.jpg\")\n",
    "check(\"./data/28x28num2.jpg\")\n",
    "check(\"./data/28x28num8.jpg\")\n",
    "check(\"./data/28x28num0red7.jpg\")"
   ]
  },
  {
   "cell_type": "code",
   "execution_count": null,
   "id": "9cfbf116",
   "metadata": {},
   "outputs": [],
   "source": [
    "# check(\"./data/num0.jpg\")\n",
    "# check(\"./data/num1.jpg\")\n",
    "# check(\"./data/num2.jpg\")\n",
    "# check(\"./data/num8.jpg\")\n",
    "# check(\"./data/num9.jpg\")\n",
    "# check(\"./data/numred7.jpg\")"
   ]
  }
 ],
 "metadata": {
  "kernelspec": {
   "display_name": "Python 3",
   "language": "python",
   "name": "python3"
  },
  "language_info": {
   "codemirror_mode": {
    "name": "ipython",
    "version": 3
   },
   "file_extension": ".py",
   "mimetype": "text/x-python",
   "name": "python",
   "nbconvert_exporter": "python",
   "pygments_lexer": "ipython3",
   "version": "3.8.8"
  }
 },
 "nbformat": 4,
 "nbformat_minor": 5
}
