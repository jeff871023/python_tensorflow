{
 "cells": [
  {
   "cell_type": "code",
   "execution_count": 1,
   "id": "e349d9d0",
   "metadata": {},
   "outputs": [],
   "source": [
    "import os\n",
    "os.environ['TF_CPP_MIN_LOG_LEVEL']='3'\n",
    "import numpy as np\n",
    "import tensorflow as tf\n",
    "import matplotlib.pyplot as plt\n",
    "from PIL import Image,ImageOps"
   ]
  },
  {
   "cell_type": "code",
   "execution_count": 2,
   "id": "d9a7faca",
   "metadata": {},
   "outputs": [],
   "source": [
    "def predict(img_tensor):\n",
    "    model_filename=\"./model2.h5\"\n",
    "    model=tf.keras.models.load_model(model_filename)\n",
    "    img_tensor = np.expand_dims(img_tensor,axis=0)\n",
    "    img_tensor = np.expand_dims(img_tensor,axis=3)\n",
    "    img_tensor=img_tensor.astype(\"float\") / 255\n",
    "    result=model.predict(img_tensor)\n",
    "    print(\"預測值:\",np.argmax(result))\n",
    "    \n",
    "def check(img_path):\n",
    "    img = Image.open(img_path)\n",
    "    img = img.convert(\"L\")\n",
    "    img = ImageOps.invert(img)\n",
    "    img = img.resize((28,28))\n",
    "    #img.show()\n",
    "    img_np=np.asarray(img)\n",
    "    predict(img_np)\n"
   ]
  },
  {
   "cell_type": "code",
   "execution_count": 3,
   "id": "b6073366",
   "metadata": {},
   "outputs": [
    {
     "name": "stdout",
     "output_type": "stream",
     "text": [
      "[<KerasTensor: shape=(None, 28, 28, 1) dtype=float32 (created by layer 'input_1')>]\n"
     ]
    }
   ],
   "source": [
    "model_filename=\"./model2.h5\"\n",
    "model=tf.keras.models.load_model(model_filename)\n",
    "##輸入\n",
    "print(model.inputs)"
   ]
  },
  {
   "cell_type": "code",
   "execution_count": 4,
   "id": "312962cd",
   "metadata": {},
   "outputs": [
    {
     "name": "stdout",
     "output_type": "stream",
     "text": [
      "[<KerasTensor: shape=(None, 10) dtype=float32 (created by layer 'dense')>]\n"
     ]
    }
   ],
   "source": [
    "##輸出\n",
    "print(model.outputs)"
   ]
  },
  {
   "cell_type": "code",
   "execution_count": 5,
   "id": "f04f12e0",
   "metadata": {},
   "outputs": [
    {
     "name": "stdout",
     "output_type": "stream",
     "text": [
      "預測值: 7\n"
     ]
    }
   ],
   "source": [
    "check(\"./data/undone2.jpg\")"
   ]
  },
  {
   "cell_type": "code",
   "execution_count": 6,
   "id": "f4bda1f5",
   "metadata": {},
   "outputs": [
    {
     "name": "stdout",
     "output_type": "stream",
     "text": [
      "預測值: 7\n"
     ]
    }
   ],
   "source": [
    "check(\"./data/undone4.jpg\")"
   ]
  },
  {
   "cell_type": "code",
   "execution_count": 7,
   "id": "a51878e3",
   "metadata": {},
   "outputs": [
    {
     "name": "stdout",
     "output_type": "stream",
     "text": [
      "預測值: 7\n"
     ]
    }
   ],
   "source": [
    "check(\"./data/undone5.jpg\")"
   ]
  },
  {
   "cell_type": "code",
   "execution_count": 8,
   "id": "627fbf1d",
   "metadata": {},
   "outputs": [
    {
     "name": "stdout",
     "output_type": "stream",
     "text": [
      "預測值: 7\n"
     ]
    }
   ],
   "source": [
    "check(\"./data/undone7.jpg\")"
   ]
  },
  {
   "cell_type": "code",
   "execution_count": 13,
   "id": "1bbab354",
   "metadata": {},
   "outputs": [
    {
     "name": "stdout",
     "output_type": "stream",
     "text": [
      "預測值: 0\n"
     ]
    }
   ],
   "source": [
    "check(\"./data/num0.jpg\")"
   ]
  },
  {
   "cell_type": "code",
   "execution_count": 12,
   "id": "af9e8dcc",
   "metadata": {},
   "outputs": [
    {
     "name": "stdout",
     "output_type": "stream",
     "text": [
      "預測值: 9\n"
     ]
    }
   ],
   "source": [
    "check(\"./data/num9.jpg\")"
   ]
  },
  {
   "cell_type": "code",
   "execution_count": null,
   "id": "49ccab61",
   "metadata": {},
   "outputs": [],
   "source": [
    "# check(\"./data/num0.jpg\")\n",
    "# check(\"./data/num1.jpg\")\n",
    "# check(\"./data/num2.jpg\")\n",
    "# check(\"./data/num8.jpg\")\n",
    "# check(\"./data/num9.jpg\")\n",
    "# check(\"./data/numred7.jpg\")"
   ]
  }
 ],
 "metadata": {
  "kernelspec": {
   "display_name": "Python 3",
   "language": "python",
   "name": "python3"
  },
  "language_info": {
   "codemirror_mode": {
    "name": "ipython",
    "version": 3
   },
   "file_extension": ".py",
   "mimetype": "text/x-python",
   "name": "python",
   "nbconvert_exporter": "python",
   "pygments_lexer": "ipython3",
   "version": "3.8.8"
  }
 },
 "nbformat": 4,
 "nbformat_minor": 5
}
